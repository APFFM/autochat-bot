{
 "cells": [
  {
   "cell_type": "code",
   "execution_count": 1,
   "id": "ebc41f44-41b9-48e3-a672-7b01b182840b",
   "metadata": {},
   "outputs": [],
   "source": [
    "import json\n",
    "import os\n",
    "import pysolr\n",
    "import requests\n",
    "import pandas as pd"
   ]
  },
  {
   "cell_type": "markdown",
   "id": "7817116f-b6f7-4017-80d4-0d458e23e930",
   "metadata": {},
   "source": [
    "### Commands to start Solr\n",
    "\n",
    "- sudo systemctl start solr\n",
    "- sudo systemctl stop solr\n",
    "- sudo systemctl status solr"
   ]
  },
  {
   "cell_type": "markdown",
   "id": "b79f5605-aa21-49b6-8a7b-3750da38ca69",
   "metadata": {},
   "source": [
    "### Reading the JSON file"
   ]
  },
  {
   "cell_type": "code",
   "execution_count": 2,
   "id": "ae1afe02-808a-45ed-af2b-4fcd4fba2417",
   "metadata": {},
   "outputs": [],
   "source": [
    "with open(\"./wiki_documents_scraped_preprocessed.json\", \"r\") as json_file:\n",
    "    topic_doc_dict = json.load(json_file)"
   ]
  },
  {
   "cell_type": "code",
   "execution_count": 3,
   "id": "1fc53502",
   "metadata": {},
   "outputs": [],
   "source": [
    "def is_alphanumeric(text):\n",
    "    # Remove any whitespace from the text\n",
    "    cleaned_text = text.replace(\" \", \"\")\n",
    "    \n",
    "    return cleaned_text.isalnum()"
   ]
  },
  {
   "cell_type": "code",
   "execution_count": 4,
   "id": "895e85ab",
   "metadata": {},
   "outputs": [],
   "source": [
    "def test_alphanumeric(topic_documents):\n",
    "    alphanumeric_doc_count = 0\n",
    "    count = 0\n",
    "    for key in topic_documents.keys():\n",
    "        for document_info in topic_documents[key]:\n",
    "            if is_alphanumeric(document_info[\"summary\"]):\n",
    "                alphanumeric_doc_count += 1\n",
    "            else:\n",
    "                count += 1\n",
    "                if count % 10 == 0:\n",
    "                    print(\"******* BREAKING PREMPTIVELY ********\")\n",
    "    \n",
    "    # Print the count of alphanumeric stats\n",
    "    print(f\"Number, Percentage of alphanumeric summaries: {alphanumeric_doc_count, (alphanumeric_doc_count/6000)*100}\")"
   ]
  },
  {
   "cell_type": "markdown",
   "id": "7eedaae2-417c-4283-bc9f-a79c1f88ac4b",
   "metadata": {},
   "source": [
    "#### Test count for alphanumeric documents (Total docs: 6000)"
   ]
  },
  {
   "cell_type": "code",
   "execution_count": 5,
   "id": "f5dd186a",
   "metadata": {},
   "outputs": [
    {
     "name": "stdout",
     "output_type": "stream",
     "text": [
      "Number, Percentage of alphanumeric summaries: (5999, 99.98333333333333)\n"
     ]
    }
   ],
   "source": [
    "test_alphanumeric(topic_doc_dict)"
   ]
  },
  {
   "cell_type": "markdown",
   "id": "b41efbf7-4394-4646-86c8-d71c04635234",
   "metadata": {},
   "source": [
    "### Creating a collection (basically a list of dictionaries)"
   ]
  },
  {
   "cell_type": "code",
   "execution_count": 6,
   "id": "6a88345b-2d43-4193-b387-c9014dda9ac4",
   "metadata": {},
   "outputs": [
    {
     "name": "stdout",
     "output_type": "stream",
     "text": [
      "Total documents in the collection:  6000\n"
     ]
    }
   ],
   "source": [
    "combined_collection = []\n",
    "\n",
    "for key, value in topic_doc_dict.items():\n",
    "    for doc_info in value:\n",
    "        combined_collection.append(doc_info)\n",
    "        \n",
    "print(\"Total documents in the collection: \", len(combined_collection))"
   ]
  },
  {
   "cell_type": "code",
   "execution_count": 7,
   "id": "cf37de9f-14c5-445d-a99b-70181514fddd",
   "metadata": {},
   "outputs": [
    {
     "data": {
      "text/plain": [
       "{'revision_id': 1166952709,\n",
       " 'title': 'Common disease-common variant',\n",
       " 'summary': 'The common disease common variant  often abbreviated CD CV  hypothesis predicts that common disease causing alleles  or variants  will be found in all human populations which manifest a given disease  Common variants  not necessarily disease causing  are known to exist in coding and regulatory sequences of genes  According to the CD CV hypothesis  some of those variants lead to susceptibility to complex polygenic diseases  Each variant at each gene influencing a complex disease will have a small additive or multiplicative effect on the disease phenotype  These diseases  or traits  are evolutionarily neutral in part because so many genes influence the traits  The hypothesis has held  in the case of putative causal variants in apolipoprotein E  including APOE ε4  associated with Alzheimer s disease  IL23R has been found to be associated with Crohn s disease  the at risk allele has a frequency of 93  in the general population  One common form of variation across human genomes is called a single nucleotide polymorphism  SNP   As indicated by the name  SNPs are single base changes in the DNA   SNP variants tend to be common in different human populations  These polymorphisms have been valuable as genomic signposts  or  markers   in the search for common variants that influence susceptibility to common diseases   Research has linked common SNPs to diseases such as type 2 diabetes  Alzheimer s  schizophrenia and hypertension ',\n",
       " 'url': 'https://en.wikipedia.org/wiki/Common_disease-common_variant',\n",
       " 'topic': 'Health'}"
      ]
     },
     "execution_count": 7,
     "metadata": {},
     "output_type": "execute_result"
    }
   ],
   "source": [
    "combined_collection[0]"
   ]
  },
  {
   "cell_type": "code",
   "execution_count": 8,
   "id": "a24babb5-e610-457b-86bb-f5a059db20fa",
   "metadata": {},
   "outputs": [
    {
     "name": "stdout",
     "output_type": "stream",
     "text": [
      "6000\n"
     ]
    }
   ],
   "source": [
    "valid_summary_count = 0\n",
    "for doc_info in combined_collection:\n",
    "    if len(doc_info['summary']) > 200:\n",
    "        valid_summary_count += 1\n",
    "\n",
    "print(valid_summary_count)"
   ]
  },
  {
   "cell_type": "markdown",
   "id": "6b03adde-6b2a-4063-9624-fe16c98274e9",
   "metadata": {},
   "source": [
    "## Code to index the code to Solr"
   ]
  },
  {
   "cell_type": "code",
   "execution_count": 8,
   "id": "ef26cac4-f261-46f2-a66c-b2336a8f9ed3",
   "metadata": {},
   "outputs": [],
   "source": [
    "CORE_NAME = \"IRF23P1\"\n",
    "VM_IP = \"localhost\""
   ]
  },
  {
   "cell_type": "code",
   "execution_count": 9,
   "id": "8e6c22e4-3bbd-436f-a780-d81b317c7ec1",
   "metadata": {},
   "outputs": [],
   "source": [
    "def delete_core(core=CORE_NAME):\n",
    "    print(os.system('sudo su - solr -c \"/opt/solr/bin/solr delete -c {core}\"'.format(core=core)))\n",
    "\n",
    "\n",
    "def create_core(core=CORE_NAME):\n",
    "    print(os.system(\n",
    "        'sudo su - solr -c \"/opt/solr/bin/solr create -c {core} -n data_driven_schema_configs\"'.format(\n",
    "            core=core)))"
   ]
  },
  {
   "cell_type": "code",
   "execution_count": 10,
   "id": "eb299c29-02a6-48c6-9e9d-9ebe39af9a8b",
   "metadata": {},
   "outputs": [],
   "source": [
    "class Indexer:\n",
    "    def __init__(self):\n",
    "        self.solr_url = f'http://{VM_IP}:8983/solr/'\n",
    "        self.connection = pysolr.Solr(self.solr_url + CORE_NAME, always_commit=True, timeout=5000000)\n",
    "\n",
    "    def do_initial_setup(self):\n",
    "        delete_core()\n",
    "        create_core()\n",
    "\n",
    "    def create_documents(self, docs):\n",
    "        print(self.connection.add(docs))\n",
    "\n",
    "    def add_fields(self):\n",
    "        data = {\n",
    "                \"add-field\": [\n",
    "                    {\n",
    "                        \"name\": \"revision_id\",\n",
    "                        \"type\": \"string\",\n",
    "                        \"indexed\": True,\n",
    "                        \"multiValued\": False\n",
    "                    },\n",
    "                    {\n",
    "                        \"name\": \"title\",\n",
    "                        \"type\": \"string\",\n",
    "                        \"multiValued\": False\n",
    "                    },\n",
    "                    {\n",
    "                        \"name\": \"summary\",\n",
    "                        \"type\": \"text_en\",\n",
    "                        \"multiValued\": False\n",
    "                    },\n",
    "                    {\n",
    "                        \"name\": \"url\",\n",
    "                        \"type\": \"string\",\n",
    "                        \"multiValued\": False\n",
    "                    },\n",
    "                    {\n",
    "                        \"name\": \"topic\",\n",
    "                        \"type\": \"string\",\n",
    "                        \"multiValued\": False\n",
    "                    }\n",
    "                ]\n",
    "               }\n",
    "\n",
    "        print(requests.post(self.solr_url + CORE_NAME + \"/schema\", json=data).json())"
   ]
  },
  {
   "cell_type": "code",
   "execution_count": 11,
   "id": "25844cc0-a6e0-4e0e-b740-ba0c75596c9a",
   "metadata": {},
   "outputs": [
    {
     "name": "stdout",
     "output_type": "stream",
     "text": [
      "\n",
      "Deleting core 'IRF23P1' using command:\n",
      "http://localhost:8983/solr/admin/cores?action=UNLOAD&core=IRF23P1&deleteIndex=true&deleteDataDir=true&deleteInstanceDir=true\n",
      "\n",
      "0\n",
      "\n",
      "Created new core 'IRF23P1'\n",
      "0\n",
      "{'responseHeader': {'status': 0, 'QTime': 410}}\n"
     ]
    }
   ],
   "source": [
    "i = Indexer()\n",
    "i.do_initial_setup()\n",
    "i.add_fields()"
   ]
  },
  {
   "cell_type": "code",
   "execution_count": 12,
   "id": "b99c8b44-d0c6-4a59-97ed-fabca6109658",
   "metadata": {},
   "outputs": [
    {
     "name": "stdout",
     "output_type": "stream",
     "text": [
      "{\n",
      "  \"responseHeader\":{\n",
      "    \"status\":0,\n",
      "    \"QTime\":4118}}\n",
      "\n"
     ]
    }
   ],
   "source": [
    "i.create_documents(combined_collection)"
   ]
  },
  {
   "cell_type": "code",
   "execution_count": null,
   "id": "2c1a8496-f5cd-43f4-9b5a-845cf96b3102",
   "metadata": {},
   "outputs": [],
   "source": []
  },
  {
   "cell_type": "code",
   "execution_count": null,
   "id": "5dacb126-e0a6-4051-915e-cc13a2058358",
   "metadata": {},
   "outputs": [],
   "source": []
  },
  {
   "cell_type": "code",
   "execution_count": null,
   "id": "373c8b7e-0f50-4309-97e1-e07ac2877ae6",
   "metadata": {},
   "outputs": [],
   "source": []
  }
 ],
 "metadata": {
  "kernelspec": {
   "display_name": "Python 3 (ipykernel)",
   "language": "python",
   "name": "python3"
  },
  "language_info": {
   "codemirror_mode": {
    "name": "ipython",
    "version": 3
   },
   "file_extension": ".py",
   "mimetype": "text/x-python",
   "name": "python",
   "nbconvert_exporter": "python",
   "pygments_lexer": "ipython3",
   "version": "3.10.13"
  }
 },
 "nbformat": 4,
 "nbformat_minor": 5
}
